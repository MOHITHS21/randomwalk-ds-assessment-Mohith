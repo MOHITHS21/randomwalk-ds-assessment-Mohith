{
  "metadata": {
    "kernelspec": {
      "name": "python",
      "display_name": "Python (Pyodide)",
      "language": "python"
    },
    "language_info": {
      "codemirror_mode": {
        "name": "python",
        "version": 3
      },
      "file_extension": ".py",
      "mimetype": "text/x-python",
      "name": "python",
      "nbconvert_exporter": "python",
      "pygments_lexer": "ipython3",
      "version": "3.8"
    },
    "colab": {
      "provenance": []
    }
  },
  "nbformat_minor": 4,
  "nbformat": 4,
  "cells": [
    {
      "cell_type": "code",
      "source": "import pandas as pd\nimport matplotlib.pyplot as plt",
      "metadata": {
        "id": "JVD3Gkc5xzDA",
        "trusted": true
      },
      "outputs": [],
      "execution_count": 1
    },
    {
      "cell_type": "code",
      "source": "data=pd.read_csv(\"books.csv\")",
      "metadata": {
        "id": "ECssa6O3y_OA",
        "trusted": true
      },
      "outputs": [],
      "execution_count": 2
    },
    {
      "cell_type": "markdown",
      "source": "ANSWER 1",
      "metadata": {
        "id": "dJRnHWnQ01k5"
      }
    },
    {
      "cell_type": "code",
      "source": "num_rows, num_cols = data.shape\nprint(f\"The dataset has {num_rows} rows and {num_cols} columns.\")",
      "metadata": {
        "colab": {
          "base_uri": "https://localhost:8080/"
        },
        "id": "0B_v4qBOzLaf",
        "outputId": "f9f2e365-6a9e-46c8-d514-a2d767106702",
        "trusted": true
      },
      "outputs": [
        {
          "name": "stdout",
          "text": "The dataset has 399 rows and 24 columns.\n",
          "output_type": "stream"
        }
      ],
      "execution_count": 3
    },
    {
      "cell_type": "markdown",
      "source": "ANSWER 2",
      "metadata": {
        "id": "J-7CNJew04zI"
      }
    },
    {
      "cell_type": "code",
      "source": "no_original_title = data['original_title'].isnull().sum()\nprint(f\"There are {no_original_title} books without an original title.\")",
      "metadata": {
        "colab": {
          "base_uri": "https://localhost:8080/"
        },
        "id": "4bdWcfT6zpSn",
        "outputId": "31638ee2-4fcb-44cd-9f2a-5c6172c2528b",
        "trusted": true
      },
      "outputs": [
        {
          "name": "stdout",
          "text": "There are 36 books without an original title.\n",
          "output_type": "stream"
        }
      ],
      "execution_count": 4
    },
    {
      "cell_type": "markdown",
      "source": "ANSWER 3",
      "metadata": {
        "id": "u3mj-e7M1Apo"
      }
    },
    {
      "cell_type": "code",
      "source": "data_without_null_titles = data.dropna(subset=['original_title'])\nunique_books_count = data_without_null_titles['book_id'].nunique()\nprint(f\"There are {unique_books_count} unique books based on 'book_id' after removing null values in the 'original_title' column.\")",
      "metadata": {
        "colab": {
          "base_uri": "https://localhost:8080/"
        },
        "id": "du7tn1Lgzynx",
        "outputId": "de0b7da0-5f3b-4ee6-b475-e833fb143646",
        "trusted": true
      },
      "outputs": [
        {
          "name": "stdout",
          "text": "There are 363 unique books based on 'book_id' after removing null values in the 'original_title' column.\n",
          "output_type": "stream"
        }
      ],
      "execution_count": 5
    },
    {
      "cell_type": "markdown",
      "source": "ANSWER 4",
      "metadata": {
        "id": "fYOuaan11KNp"
      }
    },
    {
      "cell_type": "code",
      "source": "average_rating = data['average_rating'].mean()\nprint(f\"The average rating of all the books in the dataset is: {average_rating:.2f}\")",
      "metadata": {
        "colab": {
          "base_uri": "https://localhost:8080/"
        },
        "id": "VFdk7BB50HB7",
        "outputId": "d7037546-58f6-4a15-fbca-459088cbc4a4",
        "trusted": true
      },
      "outputs": [
        {
          "name": "stdout",
          "text": "The average rating of all the books in the dataset is: 3.98\n",
          "output_type": "stream"
        }
      ],
      "execution_count": 6
    },
    {
      "cell_type": "markdown",
      "source": "ANSWER 5",
      "metadata": {
        "id": "dJ8MoraB1MpA"
      }
    },
    {
      "cell_type": "code",
      "source": "before_2000 = data[data['original_publication_year'] == 2000]\nnum_books_published_2000 = before_2000.shape[0]\nprint(f\"The number of books published in the year 2000 is: {num_books_published_2000}\")",
      "metadata": {
        "colab": {
          "base_uri": "https://localhost:8080/"
        },
        "id": "UU7FEUHc0dUK",
        "outputId": "03dc7f5d-d21b-4333-a860-f67f647a3fac",
        "trusted": true
      },
      "outputs": [
        {
          "name": "stdout",
          "text": "The number of books published in the year 2000 is: 8\n",
          "output_type": "stream"
        }
      ],
      "execution_count": 7
    },
    {
      "cell_type": "markdown",
      "source": "ANSWER 6",
      "metadata": {
        "id": "iyJSh0z8zLH_"
      }
    },
    {
      "cell_type": "code",
      "source": "max_ratings_book = data.loc[data['work_ratings_count'].idxmax()]\nmax_ratings_title = max_ratings_book['title']\nprint(f\"The book with the maximum number of ratings is: '{max_ratings_title}'\")",
      "metadata": {
        "colab": {
          "base_uri": "https://localhost:8080/"
        },
        "id": "P_HgJuHg2oJq",
        "outputId": "adf2c99d-331a-4520-f888-3faacf10c2ac",
        "trusted": true
      },
      "outputs": [
        {
          "name": "stdout",
          "text": "The book with the maximum number of ratings is: 'The Diary of a Young Girl'\n",
          "output_type": "stream"
        }
      ],
      "execution_count": 8
    },
    {
      "cell_type": "markdown",
      "source": "ANSWER 7",
      "metadata": {
        "id": "KYRR_ZA53Fot"
      }
    },
    {
      "cell_type": "code",
      "source": "bin_edges = [0, 0.5, 1.0, 1.5, 2.0, 2.5, 3.0, 3.5, 4.0, 4.5, 5.0]\nbin_labels = [str(edge) + ' to ' + str(edge + 0.49) for edge in bin_edges[:-1]]\ndata['rating_bucket'] = pd.cut(data['average_rating'], bins=bin_edges, labels=bin_labels, include_lowest=True)\nbooks_in_each_bucket = data['rating_bucket'].value_counts().sort_index()\nplt.figure(figsize=(10, 6))\nbooks_in_each_bucket.plot(kind='bar', color='red')\nplt.title('Total Number of Books in Each Rating Bucket')\nplt.xlabel('Rating Buckets')\nplt.ylabel('Number of Books')\nplt.xticks(rotation=45, ha='right')\nplt.tight_layout()\nplt.show()",
      "metadata": {
        "colab": {
          "base_uri": "https://localhost:8080/",
          "height": 607
        },
        "id": "vCRI7kLb3Hlh",
        "outputId": "4757178f-16eb-4cd3-a736-96065917076e",
        "trusted": true
      },
      "outputs": [
        {
          "output_type": "display_data",
          "data": {
            "text/plain": "<Figure size 1000x600 with 1 Axes>",
            "image/png": "[encoded data removed]"
          },
          "metadata": {}
        }
      ],
      "execution_count": 9
    },
    {
      "cell_type": "code",
      "source": "",
      "metadata": {
        "trusted": true
      },
      "outputs": [],
      "execution_count": null
    }
  ]
}